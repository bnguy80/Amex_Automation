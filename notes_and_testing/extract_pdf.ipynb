{
 "cells": [
  {
   "metadata": {
    "ExecuteTime": {
     "end_time": "2024-06-16T23:37:44.860488Z",
     "start_time": "2024-06-16T23:37:44.813558Z"
    }
   },
   "cell_type": "code",
   "source": [
    "import pdfplumber\n",
    "\n",
    "with pdfplumber.open(r\"K:\\t3nas\\APPS\\[02] Feb 2024\\Comcast_Business_Internet_Invoice_1766273.pdf\") as pdf:\n",
    "    first_page = pdf.pages[0]\n",
    "    print(first_page.extract_text())"
   ],
   "id": "337aa80b14983b6c",
   "outputs": [
    {
     "name": "stdout",
     "output_type": "stream",
     "text": [
      "Account Number Invoice Number Billing Date Services From Page\n",
      "708731733 001001062230 Jan 16, 2024 Jan 15, 2024 to Feb 14, 2024 1 of 3\n",
      "Hello Truth Initiative,\n",
      "Thanks for choosing Comcast Business!\n",
      "Your bill at a glance Your bill explained\n",
      "• This page gives you a quick summary of your monthly bill.\n",
      "Previous balance $2,569.90\n",
      "• Any payments received or account activity after Jan\n",
      "Payments - thank you -$2,569.90 16, 2024 will show up on your next bill. View your most\n",
      "Balance forward $0.00 up-to-date account balance at comcastbusiness.com/\n",
      "myaccount.\n",
      "Regular monthly charges $1,489.95\n",
      "Taxes, fees & other charges $0.00\n",
      "New charges $1,489.95\n",
      "Amount due Feb 15, 2024 $1,489.95\n",
      "Charges compare Last bill This bill Difference\n",
      "Regular monthly charges $1,284.95 $1,489.95 $205.00\n",
      "Your account is enrolled in Auto Pay\n",
      "Totals $1,284.95 $1,489.95 $205.00\n",
      "Need help? Visit comcastbusiness.com/help or call 800-741-4141\n",
      "Detach the bottom portion of this bill and enclose with your payment Please write your account number on your check or money order\n",
      "Account number 708731733\n",
      "$1,489.95\n",
      "Automatic payment\n",
      "PO BOX 21638\n",
      "EAGAN, MN 55121-0638\n",
      "Automatic payment will be applied to your account on Feb 15, 2024.\n",
      "TRUTH INITIATIVE\n",
      "900 G ST NW\n",
      "WASHINGTON, DC 20001\n",
      "COMCAST\n",
      "PO BOX 8587\n",
      "PHILADELPHIA, PA 19101-0601\n",
      "708731733 001001062230 000000000000148995 0\n"
     ]
    }
   ],
   "execution_count": 65
  },
  {
   "metadata": {
    "ExecuteTime": {
     "end_time": "2024-06-16T23:52:21.996935Z",
     "start_time": "2024-06-16T23:52:21.956122Z"
    }
   },
   "cell_type": "code",
   "source": [
    "import pdfplumber\n",
    "\n",
    "with pdfplumber.open(r\"K:\\t3nas\\APPS\\[02] Feb 2024\\Comcast_Business_Cable.pdf\") as pdf:\n",
    "    first_page = pdf.pages[0]\n",
    "    print(first_page.extract_text())"
   ],
   "id": "7cba103e0238e63f",
   "outputs": [
    {
     "name": "stdout",
     "output_type": "stream",
     "text": [
      "Account Number 8299 70 004 1654904\n",
      "Billing Date 01/03/24\n",
      "Total Amount Due 261.33\n",
      "Auto Pay 01/26/24\n",
      "Page 1 of 4\n",
      "Monthly Statement Summary\n",
      "Truth Initiative\n",
      "Previous Balance 240.91\n",
      "Credit Card Payment - 12/26/23 -240.91\n",
      "For service at: New Charges - see below 261.33\n",
      "900 G ST NW\n",
      "WASHINGTON DC 20001-5332 Total Amount Due 261.33\n",
      "Auto Pay 01/26/24\n",
      "News from Comcast\n",
      "New Charges Summary\n",
      "Your automatic payment on your bill due date, will include\n",
      "Comcast Business Cable 164.75\n",
      "your amount due, plus or minus any payment related activities\n",
      "Other Charges & Credits 43.04\n",
      "or adjustments, and less any credits issued before your bill\n",
      "Taxes, Surcharges & Fees 53.54\n",
      "due date.\n",
      "Total New Charges 261.33\n",
      "TV Update: Effective December 12, 2023, Crossings TV HD will\n",
      "be added to Standard channel 3131 and will require an X1 TV\n",
      "Box.\n",
      "Comcast Business App: Manage your account anytime, anywhere\n",
      "with the Comcast Business App. The easy way to manage your\n",
      "services on the go at business.comcast.com/app.\n",
      "Account Number 8299 70 004 1654904\n",
      "Auto Pay 01/26/24\n",
      "Total Amount Due 261.33\n",
      "676 ISLAND POND RD, MANCHESTER, NH 03109\n",
      "8633 1990 NO RP 03 01042024 NNNNNNNN 01 999674 Autopay Credit/Debit Will Be Made On 01/26/24\n",
      "TRUTH INITIATIVE\n",
      "900 G ST NW\n",
      "WASHINGTON, DC 20001-5332\n",
      "COMCAST\n",
      "PO BOX 70219\n",
      "PHILADELPHIA PA 19176-0219\n",
      "829970004165490400261339\n"
     ]
    }
   ],
   "execution_count": 70
  },
  {
   "metadata": {
    "ExecuteTime": {
     "end_time": "2024-06-16T23:52:25.778450Z",
     "start_time": "2024-06-16T23:52:25.740766Z"
    }
   },
   "cell_type": "code",
   "source": [
    "import pdfplumber\n",
    "\n",
    "with pdfplumber.open(r\"K:\\t3nas\\APPS\\[02] Feb 2024\\Apple_MacBook_Airs_AAA1533245 - Copy.pdf\") as pdf:\n",
    "    first_page = pdf.pages[1]\n",
    "    print(first_page.extract_text())"
   ],
   "id": "2687a0ed806190ab",
   "outputs": [
    {
     "name": "stdout",
     "output_type": "stream",
     "text": [
      "Apple Store for Business\n",
      "SF872LL/A\n",
      "Estimated Shipping: Automatically\n",
      "registered\n",
      "30 13-inch MacBook Air: Apple M2 1 1,399.00 USD 1,399.00 USD\n",
      "chip with 8-core CPU and 10-core\n",
      "GPU, 512GB - Starlight\n",
      "MLY23LL/A\n",
      "Estimated Shipping: In Stock\n",
      "Specifications:\n",
      "* System on a Chip\n",
      "(Processor): Apple M2 chip\n",
      "with 8-core CPU, 10-core\n",
      "GPU, 16-core Neural\n",
      "Engine\n",
      "* Memory: 8GB unified\n",
      "memory\n",
      "* Storage: 512GB SSD\n",
      "storage\n",
      "* Power Adapter: 35W Dual\n",
      "USB-C Port Compact\n",
      "Power Adapter\n",
      "* Camera: 1080p FaceTime\n",
      "HD camera\n",
      "* Thunderbolt: Two\n",
      "Thunderbolt / USB 4 ports\n",
      "* Input: MagSafe 3 charging\n",
      "port\n",
      "* Display: 13.6-inch Liquid\n",
      "Retina display with True\n",
      "Tone\n",
      "* Final Cut Pro: None\n",
      "* Logic Pro: None\n",
      "* Keyboard Language:\n",
      "Backlit Magic Keyboard with\n",
      "Touch ID - US English\n",
      "* Accessory Kit: Accessory\n",
      "Kit\n",
      "40 AppleCare+ for 13-inch MacBook 1 169.00 USD 169.00 USD\n",
      "Air (M2)\n",
      "SF872LL/A\n",
      "Estimated Shipping: Automatically\n",
      "registered\n",
      "Subtotal 4,704.00 USD\n",
      "Estimated Tax 0.00 USD\n",
      "Total 4,704.00 USD\n",
      "Please note that your order subtotal does not include Sales tax or rebates. Sales tax and rebates, if applicable, will be added when your\n",
      "order is processed.\n",
      "Note: Your purchase is subject to the terms and conditions of your agreement with Apple and the Apple Store for Business. To view the\n",
      "terms and conditions of the Apple Store for Business, log into the store with your Apple Account ID, and select the 'Applicable Terms' link\n",
      "on the footer of your store.\n",
      "Copyright © 2024 Apple Inc. All rights reserved.\n"
     ]
    }
   ],
   "execution_count": 71
  },
  {
   "metadata": {
    "ExecuteTime": {
     "end_time": "2024-06-17T00:17:26.475302Z",
     "start_time": "2024-06-17T00:17:26.438867Z"
    }
   },
   "cell_type": "code",
   "source": [
    "import pdfplumber\n",
    "\n",
    "with pdfplumber.open(r\"K:\\t3nas\\APPS\\[02] Feb 2024\\Adobe for Stacy Bogle.pdf\") as pdf:\n",
    "    first_page = pdf.pages[0]\n",
    "    print(first_page.extract_text())"
   ],
   "id": "7b25499e3ee06557",
   "outputs": [
    {
     "name": "stdout",
     "output_type": "stream",
     "text": [
      "Adobe Inc. ORIGINAL Invoice Information\n",
      "345 Park Avenue\n",
      "San Jose CA 95110-2704 Invoice Number 2670109208\n",
      "United States Invoice Date 31-JAN-2024\n",
      "Federal Tax ID: 77-0019522 Payment Terms Credit Card\n",
      "Purchase Order AB02165401479CUS\n",
      "Order Number 7103630710\n",
      "Customer Number 1262214090\n",
      "Currency USD\n",
      "Bill To\n",
      "Addisu Turi\n",
      "Truth Initiative\n",
      "900 G St NW suite 400\n",
      "Washington DC 20001-5332\n",
      "INVOICE\n",
      "Item Details\n",
      "Service Term: 31-JAN-2024 to 28-FEB-2024\n",
      "PRODUCT NUMBER PRODUCT DESCRIPTION QUANTITYUNIT UNIT PRICE NET AMOUNT TAX RATE TAXES TOTAL\n",
      "30000066 Acrobat Pro 1EA 19.99 19.99 6.00% 1.20 21.19\n",
      "Invoice Total\n",
      "NET AMOUNT (USD) 19.99\n",
      "TAXES (SEE DETAILS FOR RATES) 1.20\n",
      "GRAND TOTAL (USD) 21.19\n",
      "Comments:\n",
      "Billing Contact\n",
      "https://helpx.adobe.com/contact.html\n",
      "Thank you for your business!\n",
      "Page 1 of 1\n"
     ]
    }
   ],
   "execution_count": 72
  },
  {
   "metadata": {
    "ExecuteTime": {
     "end_time": "2024-06-17T00:22:10.666717Z",
     "start_time": "2024-06-17T00:22:10.630139Z"
    }
   },
   "cell_type": "code",
   "source": [
    "import pdfplumber\n",
    "\n",
    "with pdfplumber.open(r\"K:\\t3nas\\APPS\\[02] Feb 2024\\calendly-billing_invoice_AzqVbSU5PZzivLBTV - Copy.pdf\") as pdf:\n",
    "    first_page = pdf.pages[0]\n",
    "    print(first_page.extract_text())"
   ],
   "id": "81bc829f1150d48c",
   "outputs": [
    {
     "name": "stdout",
     "output_type": "stream",
     "text": [
      "—\n",
      "INVOICE\n",
      "Invoice # 84—94538\n",
      "Invoice Date Fe—b 08, 2024\n",
      "Calendly LLC Invoice Amou—nt $864.00 (USD)\n",
      "115 E Main Street\n",
      "Customer ID\n",
      "Ste A1B PMB 123\n",
      "16BQyBU3c5dNm2txW\n",
      "Buford, GA 30518\n",
      "United States\n",
      "PAID\n",
      "BILLED TO SU—BSCRIPTION\n",
      "—\n",
      "Aleksei Garazhyi ID AzZia6U3c5e2j3OBL\n",
      "20001 Billing Period Fe— b 07, 2024 to Feb 07, 2025\n",
      "U nited States\n",
      "Next Billing Date Feb 07, 2025\n",
      "DESCRIPTION UNITS UNIT PRICE DISCOUNT AMOUNT (USD)\n",
      "Teams Yearly 6 $192.00 ($288.00) $864.00\n",
      "Total $864.00\n",
      "Payments ($864.00)\n",
      "USD\n",
      "Amount Due ( ) $0.00\n",
      "$864.00\n",
      "PAYMENTS\n",
      "was paid on 07 Feb, 2024 10:05 EST by American Express card ending 1383.\n",
      "DISCOUNT\n",
      "Education: 25% off all Plans applied on line item #1 - $288.00 (25%).\n",
      "Powered by Chargebee\n"
     ]
    }
   ],
   "execution_count": 74
  },
  {
   "metadata": {
    "ExecuteTime": {
     "end_time": "2024-06-17T00:29:13.520004Z",
     "start_time": "2024-06-17T00:29:13.425427Z"
    }
   },
   "cell_type": "code",
   "source": [
    "import pdfplumber\n",
    "\n",
    "with pdfplumber.open(r\"K:\\t3nas\\APPS\\[02] Feb 2024\\CBT_Nuggets.pdf\") as pdf:\n",
    "    first_page = pdf.pages[0]\n",
    "    print(first_page.extract_text())"
   ],
   "id": "8c000054407a1851",
   "outputs": [
    {
     "name": "stdout",
     "output_type": "stream",
     "text": [
      "Receipt\n",
      "CBT Nuggets LLC Invoice Number W-10103052\n",
      "2850 Crescent Ave. Invoice Date 02/21/2024\n",
      "Eugene, OR 97408 Payment Terms Net 0\n",
      "Phone (541) 284-5522 Due Date 02/21/2024\n",
      "sales@cbtnuggets.com\n",
      "BILL Truth Initiuative SHIP Truth Initiuative\n",
      "TO: 900 G Street, NW TO: 900 G Street, NW\n",
      "Washington DC, DC 20001 Washington DC, DC 20001\n",
      "United States United States\n",
      "PRODUCT DESCRIPTION QTY UNIT PRICE SUBSCRIPTION PERIOD AMOUNT\n",
      "CBT Nuggets - Monthly Subscriptions 3 $59.00 02/21/2024 To 03/21/2024 $177.00\n",
      "Subtotal $177.00\n",
      "Sales Tax $10.62\n",
      "Total (in USD) $187.62\n",
      "Order Terms and Conditions\n",
      "CBT Nuggets online streaming licenses are single user licenses and each license must be connected to a single named user and a single unique email\n",
      "address. Administrators can assign any available license to any user, making that persons a Learner. Once a license is assigned, it may only be\n",
      "reassigned if it has been held by a Learner for at least thirty (30) days prior to the reassignment.\n",
      "Unless Customer and CBT Nuggets otherwise agree in writing, Customer acknowledges that the licenses and/or products obtained through this order\n",
      "are subject to the applicable CBT Nuggets License Agreement, Billing Agreement and Privacy Policy (Terms).\n",
      "CBT Nuggets expressly rejects all additions, exceptions, or changes to the Terms, whether contained in any printed or electronic purchase order\n",
      "received from Customer. CBT Nuggets' inclusion of any Customer supplied purchase order number on any invoice, quote or receipt is strictly for the\n",
      "purpose of reference, and is not an acceptance of any Customer terms and conditions.\n"
     ]
    }
   ],
   "execution_count": 75
  },
  {
   "metadata": {
    "ExecuteTime": {
     "end_time": "2024-06-17T00:33:12.277611Z",
     "start_time": "2024-06-17T00:33:12.231813Z"
    }
   },
   "cell_type": "code",
   "source": [
    "import pdfplumber\n",
    "\n",
    "with pdfplumber.open(r\"K:\\t3nas\\APPS\\[02] Feb 2024\\Cloudflare_Feb_for_Marketing.pdf\") as pdf:\n",
    "    first_page = pdf.pages[0]\n",
    "    print(first_page.extract_text())"
   ],
   "id": "38b63748a4d0ee77",
   "outputs": [
    {
     "name": "stdout",
     "output_type": "stream",
     "text": [
      "INVOICE# CFUSA9043632\n",
      "Invoice Date: 02/03/2024\n",
      "Invoice From Invoice To\n",
      "Cloudflare, Inc. Addisu Turi\n",
      "101 Townsend St. Truth Initiative\n",
      "San Francisco, CA 94107 USA\n",
      "900 G St Nw Ste 400\n",
      "Washington, DC 20001-5333 USA\n",
      "Summary of Current Charges\n",
      "Zone Subscriptions\n",
      "thetruth.com\n",
      "Description Billing Period Quantity Tax (USD) Subtotal (USD)\n",
      "Cloudflare Business Plan 02/03/2024 - 03/02/2024 1 $0.00 $250.00\n",
      "thetruth.com Subtotal: $250.00\n",
      "truthinitiative.org\n",
      "Description Billing Period Quantity Tax (USD) Subtotal (USD)\n",
      "Cloudflare Business Plan 02/03/2024 - 03/02/2024 1 $0.00 $250.00\n",
      "truthinitiative.org Subtotal: $250.00\n",
      "Account Subscriptions\n",
      "Advanced Certificate Manager\n",
      "Description Billing Period Quantity Tax (USD) Subtotal (USD)\n",
      "thetruth.com\n",
      "Advanced Certificate Manager 02/03/2024 - 03/02/2024 1 $0.00 $10.00\n",
      "Total Charges (USD) $510.00\n",
      "Subtotal (USD) $510.00\n",
      "Sales Tax $0.00\n",
      "Total $510.00\n",
      "Available Balance as of 02/03/2024 $0.00\n",
      "Amount due (USD)* $510.00\n",
      "*Your payment for Amount due will be reflected on the activity statement of your next invoice.\n",
      "Your payment ensures uninterrupted service by Cloudflare, the simplest way to make your website faster, safer, and smarter.\n",
      "Your payment is non-refundable. For more information on renewal terms and cancellations, go to www.cloudflare.com/terms.\n",
      "Cloudflare, Inc. 101 Townsend St., San Francisco, CA 94107\n",
      "Contact: billing@cloudflare.com\n"
     ]
    }
   ],
   "execution_count": 76
  },
  {
   "metadata": {
    "ExecuteTime": {
     "end_time": "2024-06-17T00:38:03.861594Z",
     "start_time": "2024-06-17T00:38:03.832347Z"
    }
   },
   "cell_type": "code",
   "source": [
    "import pdfplumber\n",
    "\n",
    "with pdfplumber.open(r\"K:\\t3nas\\APPS\\[02] Feb 2024\\CompTIA Server+ Bundle (1).pdf\") as pdf:\n",
    "    first_page = pdf.pages[1]\n",
    "    print(first_page.extract_text())"
   ],
   "id": "b7374bdfc863a6f0",
   "outputs": [
    {
     "name": "stdout",
     "output_type": "stream",
     "text": [
      "Product Quantity Each Total\n",
      "Subtotal: $1,132.00\n",
      "Shipping: $0.00\n",
      "Total: USD $1,132.00\n",
      "Note to customers: Your order will be shipped after your payment has been processed and\n",
      "your credit card information has been verified. Exam vouchers are typically emailed 1 to 2\n",
      "hours after your payment has been received.\n",
      "Attention Gmail users: Your Gmail inbox is divided into three tabbed lists -- \"Primary\",\n",
      "\"Social\" and \"Promotions\". For some customers, the voucher fulfillment email from CompTIA\n",
      "Marketplace is going to the \"Promotions\" tab. If you have not received your voucher email,\n",
      "please check the \"Promotions\" tab for your voucher fulfillment email. Moving the voucher\n",
      "fulfillment email to the \"Primary\" tab should direct future emails from CompTIA Marketplace to\n",
      "the \"Primary\" tab.\n",
      "For questions on your purchase, please contact us or call us at 855-863-9241.\n",
      "Sincerely,\n",
      "CompTIA Store Customer Service\n",
      "If you have any questions, email us: storehelp@comptia.org or visit our help page.\n",
      "Copyright © 2024 Pearson Education Inc. or its affiliate(s). All rights reserved.\n"
     ]
    }
   ],
   "execution_count": 78
  },
  {
   "metadata": {
    "ExecuteTime": {
     "end_time": "2024-06-17T00:40:47.063018Z",
     "start_time": "2024-06-17T00:40:47.023677Z"
    }
   },
   "cell_type": "code",
   "source": [
    "import pdfplumber\n",
    "\n",
    "with pdfplumber.open(r\"K:\\t3nas\\APPS\\[02] Feb 2024\\ServerCentral_Deft_transaction-IN136900.pdf\") as pdf:\n",
    "    first_page = pdf.pages[0]\n",
    "    print(first_page.extract_text())"
   ],
   "id": "350221cc28e083b7",
   "outputs": [
    {
     "name": "stdout",
     "output_type": "stream",
     "text": [
      "ServerCentral, LLC dba Deft.com Customer # C65424\n",
      "2200 Busse Road Invoice # IN136900\n",
      "Elk Grove Village IL 60007\n",
      "Date 2/2/2024\n",
      "Due Date 2/2/2024\n",
      "Truth Initiative Terms Credit Card\n",
      "900 G ST NW Total $1,896.26\n",
      "Suite 400 Payments/Credits $1,896.26\n",
      "Washington DC 20001\n",
      "Balance Due $0.00\n",
      "R E C U R R I N G C H A R G E S\n",
      "Item Agreement Charge Type Quantity Rate Amount Tax\n",
      "Location DF-CH1 - Digital Realty Trust CH1 (2200 Busse)\n",
      "Subscription SUB315 IPT10 IP Transit Service (10GE port)\n",
      "Service delivered on redundant 1GE ports. Overage billed at same price/Mbps.\n",
      "IPT10-R IP Transit Commit (Mbps) - 10GE Ports OPP8980 Recurring 100 $4.00 $400.00\n",
      "Service delivered on redundant 10GE ports. Service\n",
      "Service Period: 3/1/2024 - 3/31/2024\n",
      "HME-1531\n",
      "TOTAL for Subscription SUB315 $400.00 $0.00\n",
      "Subscription SUB3574 COLO06_v2 Colocation Services (Partial Cabinets) - Domestic Markets\n",
      "Period Summary OPP10344 Recurring $712.80\n",
      "Service Period: 3/1/2024 - 3/31/2024 Service\n",
      "Period Summary OPP10344 Recurring\n",
      "Service Period: 3/1/2024 - 3/31/2024 Service\n",
      "PDC01 Power Draw Cap (kW) OPP10344 Recurring 1.92\n",
      "Power allocated across Cabinet(s) below Service\n",
      "Service Period: 3/1/2024 - 3/31/2024\n",
      "CR14-GB132:A\n",
      "CABH 22U Half Cabinet (EA) OPP10344 Recurring 1\n",
      "Service Period: 3/1/2024 - 3/31/2024 Service\n",
      "GB132:A\n",
      "PCT201PH 20A/120V Power Circuit Pair (EA) OPP10344 Recurring 1\n",
      "Primary & Redundant Power Service\n",
      "Service Period: 3/1/2024 - 3/31/2024\n",
      "GB132:A\n",
      "PDU23-R 0U Unmetered Power Strip (20A/120V) OPP10344 Recurring 2\n",
      "Includes 14x NEMA 5-20R outlets. Service\n",
      "Service Period: 3/1/2024 - 3/31/2024\n",
      "C65424\n",
      "TOTAL for Subscription SUB3574 $712.80 $0.00\n",
      "TOTAL for Location DF-CH1 $1,112.80 $0.00\n",
      "T O T A L R E C U R R I N G C H A R G E S $1,112.80 $0.00\n",
      "ServerCentral LLC dba Deft.com · 2200 Busse Road · Elk Grove Village, IL 60007 1 of 3\n"
     ]
    }
   ],
   "execution_count": 80
  },
  {
   "metadata": {
    "ExecuteTime": {
     "end_time": "2024-06-17T00:45:12.514062Z",
     "start_time": "2024-06-17T00:45:12.470727Z"
    }
   },
   "cell_type": "code",
   "source": [
    "import pdfplumber\n",
    "\n",
    "with pdfplumber.open(r\"K:\\t3nas\\APPS\\[02] Feb 2024\\Dell_Monitors_US_ORDERACK_f000c1d1-cf7f-49d4-ab05-11878fffa8f1 - Copy.pdf\") as pdf:\n",
    "    first_page = pdf.pages[0]\n",
    "    print(first_page.extract_text())"
   ],
   "id": "3c4a529f4eae50fa",
   "outputs": [
    {
     "name": "stdout",
     "output_type": "stream",
     "text": [
      "We’ve received your order!\n",
      "You should receive an order confirmation soon.\n",
      "Thank you for choosing Dell!\n",
      "View Order Details\n",
      "Dell Purchase ID: 2009619921702\n",
      "Purchased On: Feb. 14, 2024\n",
      "Total (USD): $723.58\n",
      "Company Name: TRUTH INITIATIVE\n",
      "Customer Name: ADDISU TURI\n",
      "Customer Number: 60274017\n",
      "Created By: aturi@truthinitiative.org\n",
      "Shipping Group\n",
      "Ship To: Bill To:\n",
      "TURI ADDISU TURI ADDISU\n",
      "TRUTH INITIATIVE TRUTH INITIATIVE\n",
      "900 G ST NW 900 G ST NW STE 400\n",
      "Suite 400 WASHINGTON, DC. 20001-5332-\n",
      "WASHINGTON, DC. 20001-5332- WASHINGTON\n",
      "WASHINGTON (202) 4545546\n",
      "(202) 4545546\n",
      "Shipping Method: Payment Method Amount\n",
      "Free Standard CreditCard $723.58\n"
     ]
    }
   ],
   "execution_count": 81
  },
  {
   "metadata": {
    "ExecuteTime": {
     "end_time": "2024-06-17T00:48:41.240164Z",
     "start_time": "2024-06-17T00:48:41.194024Z"
    }
   },
   "cell_type": "code",
   "source": [
    "import pdfplumber\n",
    "\n",
    "with pdfplumber.open(r\"K:\\t3nas\\APPS\\[02] Feb 2024\\Granite_1312024_03354959_635226634.pdf\") as pdf:\n",
    "    first_page = pdf.pages[0]\n",
    "    print(first_page.extract_text())"
   ],
   "id": "e2401f26c445cee7",
   "outputs": [
    {
     "name": "stdout",
     "output_type": "stream",
     "text": [
      "Invoice\n",
      "Account Information\n",
      "100 Newport Ave Ext. ACCOUNT NUMBER: 03354959\n",
      "Quincy, MA 02171 INVOICE DATE: 2/1/24\n",
      "www.granitenet.com\n",
      "Truth Initiative\n",
      "900 G St NW\n",
      "ACCOUNT CURRENTLY ON CREDIT CARD AUTOPAY\n",
      "Floor 4 Savings Summary\n",
      "Washington, DC 20001\n",
      "MONTHLY SAVINGS: $2.82\n",
      "ANNUAL SAVINGS: $55.51\n",
      "LIFETIME SAVINGS: $1,081.65\n",
      "Account Summary\n",
      "PREVIOUS BALANCE DUE: $143.26\n",
      "Customer Service:\n",
      "PAYMENTS RECEIVED THRU 2/01/24 $143.26CR\n",
      "(866) 847-5500\n",
      "Email: custserv@granitenet.com CURRENT CHARGES, TAXES, SURCHARGES: $143.25\n",
      "Contact our 24/7 Customer Service Team for any service issues,\n",
      "ADJUSTMENTS: $0.00\n",
      "questions, or concerns.\n",
      "You can now pay your bills online using our online portal. Log in\n",
      "and pay at www.granitenet.com/billpay\n",
      "TOTAL AMOUNT DUE: $143.25\n",
      "PLEASE SEE FOLLOWING PAGE(S) FOR DETAILS\n",
      "Special Message\n",
      "Thank you for keeping your account current. For additional summary reports, please access your Rock Report Center at\n",
      "https://rockreports.granitenet.com. Please contact our Customer Service department with any issues or questions.\n",
      "P C\n",
      "A Y M E N T O U P O N\n",
      ".\n",
      ".\n",
      "Make checks payable to Granite Telecommunications\n",
      ". Due Date Upon Receipt\n",
      "Please return this portion with your payment to ensure proper credit\n",
      "For address or phone changes please contact our 24/7 Customer\n",
      ".Service Team. Amount Due $143.25\n",
      "Please do not staple, tape, or glue payment to Payment Coupon. .\n",
      "Amount Enclosed\n",
      "YOUR ACCOUNT NUMBER: 03354959\n",
      "INVOICE NUMBER: 635226634\n",
      "INVOICE DATE: 2/1/24\n",
      "Truth Initiative\n",
      "Remit payment to: Granite Telecommunications LLC\n",
      "900 G St NW\n",
      "P.O. Box 830103\n",
      "Floor 4\n",
      "Philadelphia, PA 19182-0103\n",
      "Washington, DC 20001\n",
      "0335495906352266340000143253\n"
     ]
    }
   ],
   "execution_count": 82
  },
  {
   "metadata": {
    "ExecuteTime": {
     "end_time": "2024-06-17T00:52:32.343516Z",
     "start_time": "2024-06-17T00:52:32.310602Z"
    }
   },
   "cell_type": "code",
   "source": [
    "import pdfplumber\n",
    "\n",
    "with pdfplumber.open(r\"K:\\t3nas\\APPS\\[02] Feb 2024\\LastPass_Renewal_Receipt.pdf\") as pdf:\n",
    "    first_page = pdf.pages[0]\n",
    "    print(first_page.extract_text())"
   ],
   "id": "955508f9955ab044",
   "outputs": [
    {
     "name": "stdout",
     "output_type": "stream",
     "text": [
      "LastPass US LP (Provisioning)\n",
      "Payment\n",
      "Thank you!\n",
      "Your payment has been successful\n",
      "You will receive an email with your payment confirmation.\n",
      "Summary\n",
      "Invoice #INV-811-3023315967 Amount Due\n",
      "Invoice Date: 2/12/24\n",
      "$0.00\n",
      "Due Date: 3/13/24\n",
      "Bill To Status\n",
      "Truth Initiative Paid In Full\n",
      "900 G ST NW, Suite 400 Terms\n",
      "Washington. DC 20001 Net 030\n",
      "US (active)\n",
      "Payment History Date Amount\n",
      "Payment #PAY-811-00008026 2/12/24 2,925.10\n",
      "Item Quantity Amount\n",
      "LastPass Business 1 5,400.00\n",
      "LastPass Business 1 -2,474.90\n",
      "Subtotal 2,925.10\n",
      "Tax 0.00\n",
      "Total $2,925.10\n",
      "Copyright © 2024, Oracle and/or its affiliates. Terms of use\n"
     ]
    }
   ],
   "execution_count": 84
  },
  {
   "metadata": {
    "ExecuteTime": {
     "end_time": "2024-06-17T00:54:25.972047Z",
     "start_time": "2024-06-17T00:54:25.930391Z"
    }
   },
   "cell_type": "code",
   "source": [
    "import pdfplumber\n",
    "\n",
    "with pdfplumber.open(r\"K:\\t3nas\\APPS\\[02] Feb 2024\\MSFT Microsoft Defender for Office 365 (Plan 1) (Nonprofit Staff Pricing).pdf\") as pdf:\n",
    "    first_page = pdf.pages[0]\n",
    "    print(first_page.extract_text())"
   ],
   "id": "b25fcaabde0b877f",
   "outputs": [
    {
     "name": "stdout",
     "output_type": "stream",
     "text": [
      "Invoice\n",
      "February 2024\n",
      "Invoice Date: 02/12/2024\n",
      "Invoice Number: E0500QZD1L\n",
      "Due Date: 02/12/2024\n",
      "144.00 USD\n",
      "Sold-To Bill-To Service Usage Address\n",
      "Truth Initiative Truth Initiative Truth Initiative\n",
      "900 G Street, NW 900 G St NW 900 G Street, NW\n",
      "Fourth Floor Ste 400 Fourth Floor\n",
      "Washington DC 20001-5332 Washington dc 20001-5333 Washington DC 20001-5332\n",
      "United States United States United States\n",
      "Tax ID: 91-1956621\n",
      "Order Details Billing Summary\n",
      "Product: Online Services Charges: 144.00\n",
      "Customer PO Number: Discounts: 0.00\n",
      "Order Number: 4580f653-a904-4a3e-a041-a3d9471382e9 Credits: 0.00\n",
      "Billing Period: 01/12/2024 - 02/11/2024 Tax: 0.00\n",
      "Due Date: 02/12/2024 Total: 144.00\n",
      "Payment Instructions: Please DO NOT PAY. You will be charged the amount due through your selected method of payment.\n",
      "Billing or service question? Call 1-800-865-9408 or visithttps://aka.ms/Office365Billing\n",
      "Microsoft Corporation, One Microsoft Way, Redmond, WA 98052, United States\n",
      "US FEIN 91-1144442 1/2\n"
     ]
    }
   ],
   "execution_count": 85
  },
  {
   "metadata": {
    "ExecuteTime": {
     "end_time": "2024-06-17T00:57:31.625674Z",
     "start_time": "2024-06-17T00:57:31.570565Z"
    }
   },
   "cell_type": "code",
   "source": [
    "import pdfplumber\n",
    "\n",
    "with pdfplumber.open(\n",
    "        r\"K:\\t3nas\\APPS\\[02] Feb 2024\\NewRelic_Invoice_INV00972418.pdf\") as pdf:\n",
    "    first_page = pdf.pages[0]\n",
    "    print(first_page.extract_text())"
   ],
   "id": "cda1fe4c7f4a01e9",
   "outputs": [
    {
     "name": "stdout",
     "output_type": "stream",
     "text": [
      "Invoice No: INV00972418\n",
      "Date: 01/31/2024\n",
      "Account ID: 1308701\n",
      "PAID\n",
      "Invoice\n",
      "Account Name: TheTruth.com\n",
      "Due Date: 01/31/2024\n",
      "New Relic, Inc. Terms: Due on receipt\n",
      "188 Spear St., Suite 1200 New Relic US Tax ID: 26-2017431\n",
      "San Francisco, CA 94105\n",
      "USA\n",
      "Invoice Balance: $0.00\n",
      "Bill To: Sold To:\n",
      "Truth Initiative 900 G St Nw Fl 4 Ste 400\n",
      "900 G St Nw Fl 4 Ste 400 Floor 4 Floor 4\n",
      "Washington, Washington DC 20001 Washington, Washington DC 20001\n",
      "United States United States\n",
      "CHARGE SUMMARY\n",
      "Service Period Description Quantity Amount\n",
      "Jan 01 2024 - Jan 31 2024 New Relic One - Standard Users Nonprofit 1 Monthly Provisioned $75.00\n",
      "(PAYG) Users\n",
      "Sub-Total: $75.00\n",
      "Tax: $0.00\n",
      "Invoice Total (USD): $75.00\n",
      "TRANSACTIONS\n",
      "Invoice Total $75.00\n",
      "Date Transaction Number Type Applied Amount\n",
      "Feb 03 2024 P-00918090 Payment Card Card Number: ($75.00)\n",
      "Type:AmericanExpress ***********1383\n",
      "Invoice Balance $0.00\n",
      "USAGE SUMMARY\n",
      "Charge Details Used Rate Total\n",
      "New Relic One - Standard Users Nonprofit (PAYG) 1 75.0 $75.00\n",
      "For questions regarding your bill, please contact billing@newrelic.com\n",
      "For all other questions please contact support@newrelic.com\n",
      "New Relic Inc. – 188 Spear Street, Suite 1200, San Francisco 94105\n",
      "Copyright © 2008- 2024 New Relic, Inc. All rights reserved. All trademarks, trade names, service marks and logos referenced herein belongs to their\n",
      "respective companies.\n"
     ]
    }
   ],
   "execution_count": 87
  },
  {
   "metadata": {
    "ExecuteTime": {
     "end_time": "2024-06-17T01:00:23.987023Z",
     "start_time": "2024-06-17T01:00:23.910856Z"
    }
   },
   "cell_type": "code",
   "source": [
    "import pdfplumber\n",
    "\n",
    "with pdfplumber.open(r\"K:\\t3nas\\APPS\\[02] Feb 2024\\Server supply 4183063.pdf\") as pdf:\n",
    "    first_page = pdf.pages[0]\n",
    "    print(first_page.extract_text())"
   ],
   "id": "4fa261f27fa72fff",
   "outputs": [
    {
     "name": "stdout",
     "output_type": "stream",
     "text": [
      "Invoice: 4183063\n",
      "Date: 2/8/2024\n",
      "Time: 02:28:54 PM\n",
      "750 Shames Dr.\n",
      "Westbury, New York 11590\n",
      "516-334-7700\n",
      "516-334-7727 Fax\n",
      "Shipping Address Billing Address\n",
      "Truth Initiative Truth Initiative\n",
      "Addisu Turi Addisu Turi\n",
      "900 G Street NW Suite 400 900 G Street NW Suite 400\n",
      "Washington,DC,20001 Washington,DC,20001\n",
      "Rep: Terms : Delivery: Tax Rate:\n",
      "INTERNET CreditCard Ground 0.000\n",
      "Item Description Qty Price Sub Total\n",
      "370-AGZP Dell 370-agzp 32gb (1x32gb) 4800mt/s Pc5-38400 Cl40 Ecc Registered 8 115.00 920.00\n",
      "2rx8 1.1v Ddr5 Sdram 288-pin Rdimm Memory Module For Server. Brand\n",
      "New. Samsung Oem. In Stock.\n",
      "Discount 2% Discount 1 -18.40 -18.40\n",
      "Sub Total 901.60\n",
      "Shipping 0.00\n",
      "Tax 0.00\n",
      "Total 901.60\n",
      "Thank you for your business! If you have any questions about your order, please contact us at 516-334-7710.\n",
      "www.serversupply.com Office Hours: Monday - Friday: 9:30 AM to 6:00 PM EST\n",
      "https://www.serversupply.com/policies.asp\n",
      "Return Policy: Products may be returned for replacement or refund within 30 days of purchase.\n",
      "Before you return a product, you must get an RMA (Return Merchandise Authorization) number from Server Supply's RMA department.Products returned\n",
      "without an RMA number are not considered as returns. Server Supply must receive all incoming merchandises within 10 days otherwise RMA will be void.\n",
      "All returns are subject to a 15% restocking fee.\n",
      "Tax Refund: You have 30 days from the date of purchase to e-mail admin@serversupply.com to request a refund.\n",
      "Please note: Tax refund requests on previous orders will need to be made directly to your respective state department.\n"
     ]
    }
   ],
   "execution_count": 88
  },
  {
   "metadata": {
    "ExecuteTime": {
     "end_time": "2024-06-17T01:03:53.878028Z",
     "start_time": "2024-06-17T01:03:52.846596Z"
    }
   },
   "cell_type": "code",
   "source": [
    "import pdfplumber\n",
    "\n",
    "with pdfplumber.open(r\"K:\\t3nas\\APPS\\[02] Feb 2024\\ChatGPT_Business_Plan_IT.pdf\") as pdf:\n",
    "    first_page = pdf.pages[0]\n",
    "    print(first_page.extract_text())"
   ],
   "id": "1f57b02ab1171071",
   "outputs": [
    {
     "name": "stdout",
     "output_type": "stream",
     "text": [
      "\n"
     ]
    }
   ],
   "execution_count": 89
  },
  {
   "metadata": {
    "ExecuteTime": {
     "end_time": "2024-06-24T17:52:46.318895Z",
     "start_time": "2024-06-24T17:52:45.570659Z"
    }
   },
   "cell_type": "code",
   "source": [
    "import pdfplumber\n",
    "\n",
    "with pdfplumber.open(r\"C:\\Users\\brand\\IdeaProjects\\Amex Automation DATA\\t3nas\\APPS\\[6] June 2024\\CDW - MS LICENSING - MONTH - 5_4_2024-to-6_3_2024.pdf\") as pdf:\n",
    "    first_page = pdf.pages[0]\n",
    "    print(first_page.extract_text())"
   ],
   "id": "23216a5d788d55bc",
   "outputs": [
    {
     "name": "stdout",
     "output_type": "stream",
     "text": [
      "Invoice # CB00649317\n",
      "How to Pay\n",
      "Amount Due Due Date\n",
      "$28.50 6/5/2024\n",
      "ACH Payment\n",
      "Invoice Date PO # / Description Account Name CDW Direct LLC\n",
      "6/5/2024 MS LICENSING - MONTH Bank Address The Northern Trust\n",
      "50 S. LaSalle St.\n",
      "Chicago, IL 60675\n",
      "Account # Billing Address Routing # 071000152\n",
      "12687229 900 G St Nw Fl 4 Account # 47910\n",
      "Washington, DC, 20001-5332 Remit to achremittance@cdw.com\n",
      "Send Check by Mail\n",
      "Billing Questions? Account Manager CDW Direct\n",
      "\n",
      "PO Box 75723\n",
      "credit@cdw.com Agnes Balewska\n",
      "Chicago, IL 60675 - 5723\n",
      "(847) 419-7291\n",
      "agnibal@cdw.com\n",
      "ITEM SERVICE PERIOD RATE PLAN UOM QTY PRICE NET AMOUNT\n",
      "NFR_NFP VISIO ONLINE P2-M 5/4/2024 - NFP Visio Online P2 Each 5 $5.70 $28.50\n",
      "6/3/2024 Basic Monthly Seat\n",
      "Tax Information\n",
      "Subtotal $28.50\n",
      "CDW several ISO certifications, including 9001 and 14001.\n",
      "CDW's federal tax ID number is 36-4230110 Sales Tax $0.00\n",
      "Amount Due $28.50\n",
      "This page was printed on 6/24/2024 11:00:21 AM.\n",
      "*\n"
     ]
    }
   ],
   "execution_count": 1
  },
  {
   "metadata": {
    "ExecuteTime": {
     "end_time": "2024-06-24T19:29:33.317112Z",
     "start_time": "2024-06-24T19:29:33.286958Z"
    }
   },
   "cell_type": "code",
   "source": [
    "import pdfplumber\n",
    "\n",
    "with pdfplumber.open(r\"C:\\Users\\brand\\IdeaProjects\\Amex Automation DATA\\t3nas\\APPS\\[6] June 2024\\EBAY - (4) J9151E HPE Aruba 10G SFP+ LC LR 10KM SMF New Seal Green Hologram GENUINE.pdf\") as pdf:\n",
    "    first_page = pdf.pages[0]\n",
    "    print(first_page.extract_text())"
   ],
   "id": "987546d6c4f38605",
   "outputs": [
    {
     "name": "stdout",
     "output_type": "stream",
     "text": [
      "(cid:13)(cid:14)(cid:15)(cid:16)(cid:17) (cid:18)(cid:19)(cid:20)(cid:21)(cid:22)(cid:23)(cid:24) (cid:13)(cid:17)!#\"(cid:28)#(cid:5)/0(cid:14)(cid:15)(cid:16)# (cid:23)(cid:5)(cid:21)(cid:18)(cid:16)(cid:29)(cid:31) :6’%(cid:19)&;(cid:23)(cid:23)\n",
      "(cid:25)(cid:16)(cid:26)(cid:26)(cid:16)(cid:17) (cid:18)(cid:26)(cid:22)(cid:27)(cid:28)(cid:29)(cid:30)(cid:14)(cid:18)(cid:16)(cid:17)(cid:31) &(cid:24)(cid:24)(cid:5)1(cid:5)(cid:25)(cid:18)(cid:5)/2’(cid:5)3(cid:26)(cid:5)(cid:23) <(cid:18)(cid:16)(cid:29)(cid:5)\"(cid:21)(cid:31)(cid:27)(cid:28)(cid:14)#(cid:18) (cid:22):=>;?>\n",
      "2!(cid:31)((cid:21)#0(cid:18)(cid:28)#’(cid:5)4(cid:21)(cid:31)(cid:18)(cid:17)(cid:21)(cid:27)(cid:18)(cid:5)(cid:28)5(cid:5))(cid:28)(cid:26)(cid:14)(cid:29)(cid:20)(cid:21)!(cid:5)%(cid:24)(cid:24)(cid:24)6(cid:22)\n",
      "(cid:26)!(cid:27)(cid:16)\"(cid:5)(cid:28)# $!(cid:15)(cid:5)%&’(cid:5)%(cid:24)%(cid:23) (cid:25)((cid:21)(cid:30)(cid:30)(cid:21)#0 3(cid:17)(cid:16)(cid:16)\n",
      "7(cid:19)(cid:19)%\n",
      "(cid:0) !(cid:15)(cid:2) (cid:29)(cid:3) (cid:16)#(cid:4) (cid:18)(cid:5)(cid:29)(cid:2) (cid:16)(cid:5)(cid:6) (cid:18)(cid:7) ((cid:28)(cid:8) \"(cid:9)(cid:2) )(cid:10) (cid:17)(cid:16)\"(cid:11) (cid:21)(cid:18)(cid:5)(cid:12) )(cid:6) !(cid:9) (cid:17)\"(cid:7) 8*#+(cid:21)(cid:18)(cid:16)(cid:6)\",(cid:5)(cid:25)(cid:18),!(cid:18)(cid:6)(cid:16)(cid:7)(cid:31)-(cid:5)(cid:11)(cid:3)(cid:3)(cid:2)(cid:4).. @(cid:0) !A(cid:2)(cid:3)(cid:4)(cid:2)(cid:5)(cid:12)(cid:9)(cid:12)(cid:11)9\n",
      ":>&;6>\n",
      "(cid:0)(cid:2)(cid:3)(cid:4)(cid:2)(cid:5)(cid:12)(cid:9)(cid:12)(cid:11)9 :6’%%6;=(cid:23)\n",
      "B(cid:12)(cid:4)(cid:10)\n",
      "ID(cid:11)(cid:7)(cid:12)(cid:6)(cid:12)J B(cid:12)(cid:4)(cid:10)(cid:5)(cid:7)(cid:11)(cid:10)(cid:4) *+(cid:6),,(cid:6)(cid:7)-(cid:5).(cid:4)(cid:2)K(cid:6)F(cid:4)\n",
      "G(cid:17)\"(cid:16)(cid:17)(cid:5)#(cid:14)(cid:29)(cid:20)(cid:16)(cid:17)H(cid:5)6>(cid:22)66>%(cid:23)(cid:22)(cid:24)>67? ,(cid:2)(cid:6)F(cid:4)\n",
      "B(cid:12)(cid:4)(cid:10).(cid:5)C(cid:9)D-+(cid:12)(cid:5)(cid:8)(cid:2)(cid:9)(cid:10)(cid:5)(cid:12)9EF(cid:9)(cid:10),D(cid:12)(cid:4)(cid:2).\n",
      "L&676M(cid:5)N M(cid:5)O(cid:17)(cid:14)(cid:20)!(cid:5)6(cid:24)1(cid:5)(cid:25)3 P(cid:5)Q)(cid:5)QR(cid:5)6(cid:24)S$(cid:5)(cid:25)$3(cid:5)/(cid:16)T(cid:5)(cid:25)(cid:16)!(cid:26)(cid:5)1(cid:17)(cid:16)(cid:16)#(cid:5)N(cid:28)(cid:26)(cid:28)0(cid:17)!(cid:29)(cid:5)1M/8</M (cid:25)(cid:18)!#\"!(cid:17)\"\n",
      "(cid:23) :6’%(cid:19)&;(cid:23)(cid:23)\n",
      "U(cid:19)%7?>?(cid:24)=?%>%V (cid:25)((cid:21)(cid:30)(cid:30)(cid:21)#0\n",
      "WXY\n"
     ]
    }
   ],
   "execution_count": 5
  },
  {
   "metadata": {
    "ExecuteTime": {
     "end_time": "2024-06-24T19:36:00.327103Z",
     "start_time": "2024-06-24T19:36:00.284646Z"
    }
   },
   "cell_type": "code",
   "source": [
    "import pdfplumber\n",
    "\n",
    "with pdfplumber.open(r\"C:\\Users\\brand\\IdeaProjects\\Amex Automation DATA\\t3nas\\APPS\\[6] June 2024\\OTTERAI - Invoice-5_22_2024-to-6_13_2024.pdf\") as pdf:\n",
    "    first_page = pdf.pages[0]\n",
    "    print(first_page.extract_text())"
   ],
   "id": "fc2a04a302ce46d7",
   "outputs": [
    {
     "name": "stdout",
     "output_type": "stream",
     "text": [
      "Invoice\n",
      "Invoice number A8F3F73D\u00000006\n",
      "Date of issue May 23, 2024\n",
      "Date due May 23, 2024\n",
      "Otter.ai Bill to\n",
      "support@otter.ai Team - Truth Initiative\n",
      "ztelahun@truthinitiative.org\n",
      "$19.36 USD due May 23, 2024\n",
      "Pay online\n",
      "Prorated charge for 2 additional users (from May 22, 2024 to Jun 13, 2024\u0000\n",
      "Description Qty Unit price Amount\n",
      "Remaining time on 3 × Otter Business Subscription after 22 May 2024 3 $63.87\n",
      "May 22 – Jun 13, 2024\n",
      "Unused time on Otter Business Subscription after 22 May 2024 1 \u0000$21.29\n",
      "May 22 – Jun 13, 2024\n",
      "Subtotal $42.58\n",
      "Total $42.58\n",
      "Applied balance \u0000$23.22\n",
      "Amount due $19.36 USD\n",
      "Remittance address for physical check payments (please include the invoice number on all checks):\n",
      "Otter.ai, Inc.\n",
      "800 W El Camino Real Suite 170\n",
      "Mountain View, CA 94040\n",
      "A8F3F73D\u00000006 · $19.36 USD due May 23, 2024 Page 1 of 1\n"
     ]
    }
   ],
   "execution_count": 6
  },
  {
   "metadata": {
    "ExecuteTime": {
     "end_time": "2024-06-24T19:47:50.376857Z",
     "start_time": "2024-06-24T19:47:50.323778Z"
    }
   },
   "cell_type": "code",
   "source": [
    "import pdfplumber\n",
    "\n",
    "with pdfplumber.open(r\"C:\\Users\\brand\\IdeaProjects\\Amex Automation DATA\\t3nas\\APPS\\[6] June 2024\\OTTERAI - Refund-5_13_2024-to-6_13_2024.pdf\") as pdf:\n",
    "    first_page = pdf.pages[0]\n",
    "    print(first_page.extract_text())"
   ],
   "id": "1e6ead1ee104d7f3",
   "outputs": [
    {
     "name": "stdout",
     "output_type": "stream",
     "text": [
      "Refund\n",
      "Invoice number A8F3F73D\u00000004\n",
      "Receipt number 3130\u00007322\n",
      "Date issued May 31, 2024\n",
      "Payment method American Express - 1383\n",
      "Otter.ai Bill to\n",
      "support@otter.ai Team - Truth Initiative\n",
      "ztelahun@truthinitiative.org\n",
      "$42.60 refunded on May 31, 2024\n",
      "All pricing and payments are in USD.\n",
      "Description Qty Unit price Amount\n",
      "Otter Business Subscription (per seat) 2 $30.00 $60.00\n",
      "May 13 – Jun 13, 2024\n",
      "Subtotal $60.00\n",
      "Total $60.00\n",
      "Amount paid $60.00\n",
      "\u0000A8F3F73D\u00000004\u0000CN\u000001\u0000 Unused time on Otter Business Subscription after 31 May 2024 \u00001 $12.60 \u0000$12.60\n",
      "Credited subtotal \u0000$12.60\n",
      "Credited total \u0000$12.60\n",
      "Adjusted invoice total $47.40\n",
      "Refunded on May 31, 2024 $30.00\n",
      "Total refunded without credit note $30.00\n",
      "Remittance address for physical check payments (please include the invoice number on all checks):\n",
      "Otter.ai, Inc.\n",
      "800 W El Camino Real Suite 170\n",
      "Mountain View, CA 94040\n",
      "Refund instructions\n",
      "Your refund has been issued by Otter.ai. It may take about 5 to 10 days to appear on your statement, if it takes longer please contact your bank for\n",
      "assistance.\n",
      "3130\u00007322 · $42.60 refunded on May 31, 2024 Page 1 of 1\n"
     ]
    }
   ],
   "execution_count": 7
  },
  {
   "metadata": {
    "ExecuteTime": {
     "end_time": "2024-06-24T19:52:41.468471Z",
     "start_time": "2024-06-24T19:52:41.437528Z"
    }
   },
   "cell_type": "code",
   "source": [
    "import pdfplumber\n",
    "\n",
    "with pdfplumber.open(r\"C:\\Users\\brand\\IdeaProjects\\Amex Automation DATA\\t3nas\\APPS\\[6] June 2024\\Otter-AI-INV00339488_A00139533_05202024.pdf\") as pdf:\n",
    "    first_page = pdf.pages[0]\n",
    "    print(first_page.extract_text())"
   ],
   "id": "a1e3e1aa7dbad65c",
   "outputs": [
    {
     "name": "stdout",
     "output_type": "stream",
     "text": [
      "Invoice\n",
      "Invoice Number INV00339488\n",
      "Date of issue May 20, 2024\n",
      "Date due June 19, 2024\n",
      "Bill To:\n",
      "Otter.ai\n",
      "Truth Initiative\n",
      "support@otter.ai\n",
      "Addisu Turi\n",
      "900 G St NW Fl 4\n",
      "$5,000.00 due June 19, 2024 Washington Washington DC 20001\n",
      "United States\n",
      "aturi@truthinitiative.org\n",
      "All pricing and payments are in USD.\n",
      "PO#\n",
      "Description Qty Unit Price Amount\n",
      "Otter Enterprise\n",
      "10 $5000\n",
      "May 20, 2024 - May 19, 2025\n",
      "Subtotal $5,000.00\n",
      "Total $5,000.00\n",
      "Applied Balance $0.00\n",
      "Applied Payment $0.00\n",
      "Amount Due $5,000.00\n",
      "Click Here To Pay\n",
      "Banking information for ACH or wire payments:\n",
      "Bank Name: JP Morgan Chase\n",
      "Routing Number (ACH): 322271627\n",
      "Routing Number (Wire): 021000021\n",
      "Account Number: 933607902\n",
      "SWIFT Code: CHASUS33\n",
      "Remittance address for check payments (please include the invoice number on all checks):\n",
      "Otter.ai, Inc.\n",
      "800 W El Camino Real Suite 170\n",
      "Mountain View, CA 94040\n",
      "INV00339488 $5,000.00 due 06/19/2024 Page 1 of 1\n"
     ]
    }
   ],
   "execution_count": 9
  },
  {
   "metadata": {
    "ExecuteTime": {
     "end_time": "2024-06-24T20:01:05.136724Z",
     "start_time": "2024-06-24T20:01:05.106501Z"
    }
   },
   "cell_type": "code",
   "source": [
    "import pdfplumber\n",
    "\n",
    "with pdfplumber.open(r\"C:\\Users\\brand\\IdeaProjects\\Amex Automation DATA\\t3nas\\APPS\\[6] June 2024\\SYMPREX - Invoice_5_24_2024-to_5_24.pdf\") as pdf:\n",
    "    first_page = pdf.pages[0]\n",
    "    print(first_page.extract_text())"
   ],
   "id": "253f4a002e5107c1",
   "outputs": [
    {
     "name": "stdout",
     "output_type": "stream",
     "text": [
      "2 Guildford Business Park Phone +44 148 332 1002\n",
      "Guildford GU2 8XG Email sales@symprex.com\n",
      "United Kingdom Web www.symprex.com\n",
      "Truth Initiative INVOICE\n",
      "1724 Massachusetts Ave., NW\n",
      "Washington, DC 20036\n",
      "United States of America\n",
      "Att. Addisu Turi\n",
      "Invoice number: 2404001 Customer number: 3781\n",
      "Invoice date: 01-Apr-2024 VAT number: N/A\n",
      "Reference: N/A Payment terms: 30 days\n",
      "Item Description Quantity Price Extension\n",
      "S365U00150S2Y Signature 365 150-user subscription 2 year 1 2,099.52 2,099.52\n",
      "License key S365-5683-60C7-F566\n",
      "24-May-2024 to 24-May-2026\n",
      "Subtotal: 2,099.52 USD\n",
      "VAT: 0.00 USD\n",
      "Total: 2,099.52 USD\n",
      "Payment is accepted by card or bank transfer only. To pay by card please go to https://www.symprex.com/payinvoice\n",
      "Bank account Company registration VAT number\n",
      "HSBC Bank plc · Twickenham Branch (UK) Symprex Ltd is registered in England GB731769809\n",
      "Sort code: 40-12-76 · Account number: 67641053 with company number 3884240\n",
      "IBAN: GB58HBUK40127667641053 · BIC/SWIFT: HBUKGB4B\n"
     ]
    }
   ],
   "execution_count": 10
  },
  {
   "metadata": {},
   "cell_type": "code",
   "outputs": [],
   "execution_count": null,
   "source": "",
   "id": "a00b3ef12498d099"
  }
 ],
 "metadata": {
  "kernelspec": {
   "display_name": "Python 3",
   "language": "python",
   "name": "python3"
  },
  "language_info": {
   "codemirror_mode": {
    "name": "ipython",
    "version": 2
   },
   "file_extension": ".py",
   "mimetype": "text/x-python",
   "name": "python",
   "nbconvert_exporter": "python",
   "pygments_lexer": "ipython2",
   "version": "2.7.6"
  }
 },
 "nbformat": 4,
 "nbformat_minor": 5
}
